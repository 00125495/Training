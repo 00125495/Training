{
 "cells": [
  {
   "cell_type": "code",
   "execution_count": null,
   "metadata": {},
   "outputs": [],
   "source": [
    "#single inheritance\n",
    "#A-->B"
   ]
  },
  {
   "cell_type": "code",
   "execution_count": 1,
   "metadata": {},
   "outputs": [],
   "source": [
    "# Base Class\n",
    "class Parent:\n",
    "    def func1(self):\n",
    "        print(\"This is Parent Class.\")\n",
    "\n",
    "# Dervied Class\n",
    "\n",
    "class Child(Parent):\n",
    "    def func2(self):\n",
    "        print(\"This is in Child Class.\")\n"
   ]
  },
  {
   "cell_type": "code",
   "execution_count": 3,
   "metadata": {},
   "outputs": [],
   "source": [
    "object = Child()"
   ]
  },
  {
   "cell_type": "code",
   "execution_count": 4,
   "metadata": {},
   "outputs": [
    {
     "name": "stdout",
     "output_type": "stream",
     "text": [
      "This is Parent Class.\n"
     ]
    }
   ],
   "source": [
    "object.func1()"
   ]
  },
  {
   "cell_type": "code",
   "execution_count": 5,
   "metadata": {},
   "outputs": [
    {
     "name": "stdout",
     "output_type": "stream",
     "text": [
      "This is in Child Class.\n"
     ]
    }
   ],
   "source": [
    "object.func2()"
   ]
  },
  {
   "cell_type": "code",
   "execution_count": 6,
   "metadata": {},
   "outputs": [],
   "source": [
    "# Multiple Inheritance\n",
    "\n",
    "# A-->C , B-->C\n",
    "\n",
    "# Base Class1\n",
    "class Mother:\n",
    "    mothername = \"\"\n",
    "    def mother(self):\n",
    "        print(self.mothername)\n",
    "    "
   ]
  },
  {
   "cell_type": "code",
   "execution_count": 7,
   "metadata": {},
   "outputs": [],
   "source": [
    "# Base Class2\n",
    "class Father:\n",
    "    fathername = \"\"\n",
    "    def father(self):\n",
    "        print(self.fathername)"
   ]
  },
  {
   "cell_type": "code",
   "execution_count": 9,
   "metadata": {},
   "outputs": [],
   "source": [
    "# Derived Class\n",
    "class Son(Mother, Father):\n",
    "    def parents(self):\n",
    "        print(\"Father :\", self.fathername)\n",
    "        print(\"Mother :\", self.mothername)"
   ]
  },
  {
   "cell_type": "code",
   "execution_count": 10,
   "metadata": {},
   "outputs": [],
   "source": [
    "s1= Son()"
   ]
  },
  {
   "cell_type": "code",
   "execution_count": 11,
   "metadata": {},
   "outputs": [],
   "source": [
    "s1.fathername =\"xyz\"\n",
    "s1.mothername =\"ABC\""
   ]
  },
  {
   "cell_type": "code",
   "execution_count": 12,
   "metadata": {},
   "outputs": [
    {
     "name": "stdout",
     "output_type": "stream",
     "text": [
      "Father : xyz\n",
      "Mother : ABC\n"
     ]
    }
   ],
   "source": [
    "s1.parents()"
   ]
  },
  {
   "cell_type": "code",
   "execution_count": 13,
   "metadata": {},
   "outputs": [],
   "source": [
    "# Multilevel Inheritance\n",
    "# A-->B-->C\n",
    "\n",
    "# Base Class\n",
    "\n",
    "class Grandfather:\n",
    "    grandfathername =\"\"\n",
    "    def grandfather(self):\n",
    "        print(self.grandfathername)\n"
   ]
  },
  {
   "cell_type": "code",
   "execution_count": 14,
   "metadata": {},
   "outputs": [],
   "source": [
    "# Intermediate Class\n",
    "class Father(Grandfather):\n",
    "    fathername = \"\"\n",
    "    def father(self):\n",
    "        print(self.fathername)"
   ]
  },
  {
   "cell_type": "code",
   "execution_count": 15,
   "metadata": {},
   "outputs": [],
   "source": [
    "# Derived Class\n",
    "class Son(Father):\n",
    "    def parent(self):\n",
    "        print(\"Grandfather :\", self.grandfathername)\n",
    "        print(\"Father :\", self.fathername)\n"
   ]
  },
  {
   "cell_type": "code",
   "execution_count": 16,
   "metadata": {},
   "outputs": [],
   "source": [
    "s1 = Son()"
   ]
  },
  {
   "cell_type": "code",
   "execution_count": 17,
   "metadata": {},
   "outputs": [
    {
     "name": "stdout",
     "output_type": "stream",
     "text": [
      "Grandfather : XYZ\n",
      "Father : ABC\n"
     ]
    }
   ],
   "source": [
    "s1.grandfathername = \"XYZ\"\n",
    "s1.fathername = \"ABC\"\n",
    "s1.parent()"
   ]
  },
  {
   "cell_type": "code",
   "execution_count": null,
   "metadata": {},
   "outputs": [],
   "source": [
    "#Hierarchical Inheritance\n",
    "\n",
    "# A-->B, A-->C, A-->D\n"
   ]
  },
  {
   "cell_type": "code",
   "execution_count": 21,
   "metadata": {},
   "outputs": [],
   "source": [
    "# Base Class\n",
    "class Parent:\n",
    "    def func1(self):\n",
    "        print(\"This is Parent Class.\")\n",
    "\n",
    "# Dervied Class\n",
    "\n",
    "class Child1(Parent):\n",
    "    def func2(self):\n",
    "        print(\"This is in Child1 Class.\")\n",
    "        \n",
    "class Child2(Parent):\n",
    "    def func3(self):\n",
    "        print(\"This is in Child2 Class.\")"
   ]
  },
  {
   "cell_type": "code",
   "execution_count": 22,
   "metadata": {},
   "outputs": [],
   "source": [
    "object1 = Child1()\n",
    "object2 = Child2()"
   ]
  },
  {
   "cell_type": "code",
   "execution_count": 23,
   "metadata": {},
   "outputs": [
    {
     "name": "stdout",
     "output_type": "stream",
     "text": [
      "This is Parent Class.\n"
     ]
    }
   ],
   "source": [
    "object1.func1()"
   ]
  },
  {
   "cell_type": "code",
   "execution_count": 24,
   "metadata": {},
   "outputs": [
    {
     "name": "stdout",
     "output_type": "stream",
     "text": [
      "This is in Child1 Class.\n"
     ]
    }
   ],
   "source": [
    "object1.func2()"
   ]
  },
  {
   "cell_type": "code",
   "execution_count": 25,
   "metadata": {},
   "outputs": [
    {
     "name": "stdout",
     "output_type": "stream",
     "text": [
      "This is Parent Class.\n"
     ]
    }
   ],
   "source": [
    "object2.func1()"
   ]
  },
  {
   "cell_type": "code",
   "execution_count": null,
   "metadata": {},
   "outputs": [],
   "source": [
    "# Hybrid Inheritance \n",
    "\n",
    "# A-->B, A-->C, B,C-->D\n",
    "\n",
    "# A-->B ( Single )\n",
    "# B-->D, C-->D (multiple)\n",
    "# A-->B-->D (Multilevel)\n",
    "# A-->B, A-->C ( Hierarchical)\n"
   ]
  },
  {
   "cell_type": "code",
   "execution_count": 39,
   "metadata": {},
   "outputs": [],
   "source": [
    "class School:\n",
    "    def func1(self):\n",
    "        print(\"this func is in school. \")"
   ]
  },
  {
   "cell_type": "code",
   "execution_count": 40,
   "metadata": {},
   "outputs": [],
   "source": [
    "class Student1(School):\n",
    "    def func2(self):\n",
    "        print(\"This func is in stud 1. \")"
   ]
  },
  {
   "cell_type": "code",
   "execution_count": 41,
   "metadata": {},
   "outputs": [],
   "source": [
    "class Student2(School):\n",
    "    def func3(self):\n",
    "        print(\"This func is in stud 2. \")"
   ]
  },
  {
   "cell_type": "code",
   "execution_count": 46,
   "metadata": {},
   "outputs": [],
   "source": [
    "class Student3(Student1, Student2):\n",
    "    def func4(self):\n",
    "        print(\"This func is in stud 3. \")"
   ]
  },
  {
   "cell_type": "code",
   "execution_count": 47,
   "metadata": {},
   "outputs": [],
   "source": [
    "object = Student3()"
   ]
  },
  {
   "cell_type": "code",
   "execution_count": 48,
   "metadata": {},
   "outputs": [
    {
     "name": "stdout",
     "output_type": "stream",
     "text": [
      "this func is in school. \n"
     ]
    }
   ],
   "source": [
    "object.func1()"
   ]
  },
  {
   "cell_type": "code",
   "execution_count": 49,
   "metadata": {},
   "outputs": [
    {
     "name": "stdout",
     "output_type": "stream",
     "text": [
      "This func is in stud 1. \n"
     ]
    }
   ],
   "source": [
    "object.func2()"
   ]
  },
  {
   "cell_type": "code",
   "execution_count": 50,
   "metadata": {},
   "outputs": [
    {
     "name": "stdout",
     "output_type": "stream",
     "text": [
      "This func is in stud 2. \n"
     ]
    }
   ],
   "source": [
    "object.func3()"
   ]
  },
  {
   "cell_type": "code",
   "execution_count": null,
   "metadata": {},
   "outputs": [],
   "source": []
  },
  {
   "cell_type": "code",
   "execution_count": null,
   "metadata": {},
   "outputs": [],
   "source": []
  }
 ],
 "metadata": {
  "kernelspec": {
   "display_name": "Python 3.7.3 64-bit",
   "language": "python",
   "name": "python37364bit98c0cf32487a414e968d2b4b3d33cbe5"
  },
  "language_info": {
   "codemirror_mode": {
    "name": "ipython",
    "version": 3
   },
   "file_extension": ".py",
   "mimetype": "text/x-python",
   "name": "python",
   "nbconvert_exporter": "python",
   "pygments_lexer": "ipython3",
   "version": "3.7.3"
  }
 },
 "nbformat": 4,
 "nbformat_minor": 2
}
